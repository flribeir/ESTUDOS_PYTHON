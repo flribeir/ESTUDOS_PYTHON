{
 "cells": [
  {
   "cell_type": "markdown",
   "id": "35093c47",
   "metadata": {},
   "source": [
    "### Identificando valores vazios"
   ]
  },
  {
   "cell_type": "code",
   "execution_count": 14,
   "id": "a33a1a5b",
   "metadata": {},
   "outputs": [
    {
     "data": {
      "text/html": [
       "<div>\n",
       "<style scoped>\n",
       "    .dataframe tbody tr th:only-of-type {\n",
       "        vertical-align: middle;\n",
       "    }\n",
       "\n",
       "    .dataframe tbody tr th {\n",
       "        vertical-align: top;\n",
       "    }\n",
       "\n",
       "    .dataframe thead th {\n",
       "        text-align: right;\n",
       "    }\n",
       "</style>\n",
       "<table border=\"1\" class=\"dataframe\">\n",
       "  <thead>\n",
       "    <tr style=\"text-align: right;\">\n",
       "      <th></th>\n",
       "      <th>IDCliente</th>\n",
       "      <th>Dependentes</th>\n",
       "      <th>MesesComoCliente</th>\n",
       "      <th>TipoContrato</th>\n",
       "      <th>FormaPagamento</th>\n",
       "      <th>TotalGasto</th>\n",
       "    </tr>\n",
       "  </thead>\n",
       "  <tbody>\n",
       "    <tr>\n",
       "      <th>0</th>\n",
       "      <td>7010-BRBUU</td>\n",
       "      <td>Sim</td>\n",
       "      <td>72.0</td>\n",
       "      <td>2 anos</td>\n",
       "      <td>CartaoCredito</td>\n",
       "      <td>1734.65</td>\n",
       "    </tr>\n",
       "    <tr>\n",
       "      <th>1</th>\n",
       "      <td>9688-YGXVR</td>\n",
       "      <td>Nao</td>\n",
       "      <td>NaN</td>\n",
       "      <td>Mensal</td>\n",
       "      <td>CartaoCredito</td>\n",
       "      <td>3973.2</td>\n",
       "    </tr>\n",
       "    <tr>\n",
       "      <th>2</th>\n",
       "      <td>9286-DOJGF</td>\n",
       "      <td>Nao</td>\n",
       "      <td>NaN</td>\n",
       "      <td>Mensal</td>\n",
       "      <td>DebitoAutomatico</td>\n",
       "      <td>2869.85</td>\n",
       "    </tr>\n",
       "    <tr>\n",
       "      <th>3</th>\n",
       "      <td>6994-KERXL</td>\n",
       "      <td>Nao</td>\n",
       "      <td>4.0</td>\n",
       "      <td>Mensal</td>\n",
       "      <td>BoletoEletronico</td>\n",
       "      <td>238.5</td>\n",
       "    </tr>\n",
       "    <tr>\n",
       "      <th>4</th>\n",
       "      <td>2181-UAESM</td>\n",
       "      <td>Nao</td>\n",
       "      <td>2.0</td>\n",
       "      <td>Mensal</td>\n",
       "      <td>BoletoEletronico</td>\n",
       "      <td>119.5</td>\n",
       "    </tr>\n",
       "    <tr>\n",
       "      <th>...</th>\n",
       "      <td>...</td>\n",
       "      <td>...</td>\n",
       "      <td>...</td>\n",
       "      <td>...</td>\n",
       "      <td>...</td>\n",
       "      <td>...</td>\n",
       "    </tr>\n",
       "    <tr>\n",
       "      <th>5981</th>\n",
       "      <td>0684-AOSIH</td>\n",
       "      <td>Nao</td>\n",
       "      <td>1.0</td>\n",
       "      <td>Mensal</td>\n",
       "      <td>BoletoEletronico</td>\n",
       "      <td>95</td>\n",
       "    </tr>\n",
       "    <tr>\n",
       "      <th>5982</th>\n",
       "      <td>5982-PSMKW</td>\n",
       "      <td>Sim</td>\n",
       "      <td>23.0</td>\n",
       "      <td>2 anos</td>\n",
       "      <td>CartaoCredito</td>\n",
       "      <td>2198.3</td>\n",
       "    </tr>\n",
       "    <tr>\n",
       "      <th>5983</th>\n",
       "      <td>8044-BGWPI</td>\n",
       "      <td>Sim</td>\n",
       "      <td>12.0</td>\n",
       "      <td>Mensal</td>\n",
       "      <td>BoletoEletronico</td>\n",
       "      <td>306.05</td>\n",
       "    </tr>\n",
       "    <tr>\n",
       "      <th>5984</th>\n",
       "      <td>7450-NWRTR</td>\n",
       "      <td>Nao</td>\n",
       "      <td>12.0</td>\n",
       "      <td>Mensal</td>\n",
       "      <td>BoletoEletronico</td>\n",
       "      <td>1200.15</td>\n",
       "    </tr>\n",
       "    <tr>\n",
       "      <th>5985</th>\n",
       "      <td>4795-UXVCJ</td>\n",
       "      <td>Nao</td>\n",
       "      <td>26.0</td>\n",
       "      <td>Anual</td>\n",
       "      <td>CartaoCredito</td>\n",
       "      <td>457.3</td>\n",
       "    </tr>\n",
       "  </tbody>\n",
       "</table>\n",
       "<p>5986 rows × 6 columns</p>\n",
       "</div>"
      ],
      "text/plain": [
       "       IDCliente Dependentes  MesesComoCliente TipoContrato    FormaPagamento  \\\n",
       "0     7010-BRBUU         Sim              72.0       2 anos     CartaoCredito   \n",
       "1     9688-YGXVR         Nao               NaN       Mensal     CartaoCredito   \n",
       "2     9286-DOJGF         Nao               NaN       Mensal  DebitoAutomatico   \n",
       "3     6994-KERXL         Nao               4.0       Mensal  BoletoEletronico   \n",
       "4     2181-UAESM         Nao               2.0       Mensal  BoletoEletronico   \n",
       "...          ...         ...               ...          ...               ...   \n",
       "5981  0684-AOSIH         Nao               1.0       Mensal  BoletoEletronico   \n",
       "5982  5982-PSMKW         Sim              23.0       2 anos     CartaoCredito   \n",
       "5983  8044-BGWPI         Sim              12.0       Mensal  BoletoEletronico   \n",
       "5984  7450-NWRTR         Nao              12.0       Mensal  BoletoEletronico   \n",
       "5985  4795-UXVCJ         Nao              26.0        Anual     CartaoCredito   \n",
       "\n",
       "     TotalGasto  \n",
       "0       1734.65  \n",
       "1        3973.2  \n",
       "2       2869.85  \n",
       "3         238.5  \n",
       "4         119.5  \n",
       "...         ...  \n",
       "5981         95  \n",
       "5982     2198.3  \n",
       "5983     306.05  \n",
       "5984    1200.15  \n",
       "5985      457.3  \n",
       "\n",
       "[5986 rows x 6 columns]"
      ]
     },
     "metadata": {},
     "output_type": "display_data"
    },
    {
     "name": "stdout",
     "output_type": "stream",
     "text": [
      "<class 'pandas.core.frame.DataFrame'>\n",
      "RangeIndex: 5986 entries, 0 to 5985\n",
      "Data columns (total 6 columns):\n",
      " #   Column            Non-Null Count  Dtype  \n",
      "---  ------            --------------  -----  \n",
      " 0   IDCliente         5986 non-null   object \n",
      " 1   Dependentes       5985 non-null   object \n",
      " 2   MesesComoCliente  5984 non-null   float64\n",
      " 3   TipoContrato      5986 non-null   object \n",
      " 4   FormaPagamento    5986 non-null   object \n",
      " 5   TotalGasto        5976 non-null   float64\n",
      "dtypes: float64(2), object(4)\n",
      "memory usage: 280.7+ KB\n",
      "None\n"
     ]
    },
    {
     "data": {
      "text/plain": [
       "IDCliente           False\n",
       "Dependentes          True\n",
       "MesesComoCliente     True\n",
       "TipoContrato        False\n",
       "FormaPagamento      False\n",
       "TotalGasto           True\n",
       "dtype: bool"
      ]
     },
     "execution_count": 14,
     "metadata": {},
     "output_type": "execute_result"
    }
   ],
   "source": [
    "import pandas as pd\n",
    "import numpy as np\n",
    "\n",
    "df = pd.read_csv(\"clientes.csv\")\n",
    "# df de DataFrame\n",
    "display(df)\n",
    "\n",
    "#Transforma uma coluna em numero\n",
    "df[\"TotalGasto\"] = pd.to_numeric(df[\"TotalGasto\"], errors=\"coerce\")\n",
    "\n",
    "# info\n",
    "print(df.info())\n",
    "\n",
    "# df.isna().any() ou .sum()\n",
    "df.isna().any()\n",
    "\n"
   ]
  },
  {
   "cell_type": "markdown",
   "id": "957f299d",
   "metadata": {},
   "source": [
    "### Valores vazios não identificados como vazio"
   ]
  },
  {
   "cell_type": "code",
   "execution_count": null,
   "id": "d008b49a",
   "metadata": {},
   "outputs": [],
   "source": [
    "# identificar na hora de importar\n",
    "\n",
    "# identificar com replace\n"
   ]
  },
  {
   "cell_type": "markdown",
   "id": "dd3c0e91",
   "metadata": {},
   "source": [
    "### Removendo valores vazios"
   ]
  },
  {
   "cell_type": "code",
   "execution_count": null,
   "id": "5b04cda1",
   "metadata": {},
   "outputs": [],
   "source": [
    "# 0 -> exclui linhas, 1 -> exclui colunas\n"
   ]
  },
  {
   "cell_type": "markdown",
   "id": "9911fea3",
   "metadata": {},
   "source": [
    "### Tratando valores vazios"
   ]
  },
  {
   "cell_type": "markdown",
   "id": "49c73129",
   "metadata": {},
   "source": [
    "##### - Preenchendo com valor fixo"
   ]
  },
  {
   "cell_type": "code",
   "execution_count": null,
   "id": "ee8b111c",
   "metadata": {},
   "outputs": [],
   "source": []
  },
  {
   "cell_type": "markdown",
   "id": "4c75921e",
   "metadata": {},
   "source": [
    "##### - Preenchendo com anterior ou seguinte"
   ]
  },
  {
   "cell_type": "code",
   "execution_count": null,
   "id": "538791df",
   "metadata": {},
   "outputs": [],
   "source": []
  },
  {
   "cell_type": "markdown",
   "id": "80ebcdf6",
   "metadata": {},
   "source": [
    "##### - Interpolando"
   ]
  },
  {
   "cell_type": "code",
   "execution_count": null,
   "id": "58ae94df",
   "metadata": {},
   "outputs": [],
   "source": []
  },
  {
   "cell_type": "code",
   "execution_count": null,
   "id": "aa1a2018",
   "metadata": {},
   "outputs": [],
   "source": []
  }
 ],
 "metadata": {
  "kernelspec": {
   "display_name": "Python 3",
   "language": "python",
   "name": "python3"
  },
  "language_info": {
   "codemirror_mode": {
    "name": "ipython",
    "version": 3
   },
   "file_extension": ".py",
   "mimetype": "text/x-python",
   "name": "python",
   "nbconvert_exporter": "python",
   "pygments_lexer": "ipython3",
   "version": "3.8.5"
  }
 },
 "nbformat": 4,
 "nbformat_minor": 5
}
